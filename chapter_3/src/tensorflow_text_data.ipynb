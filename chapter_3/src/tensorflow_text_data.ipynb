{
 "cells": [
  {
   "cell_type": "code",
   "execution_count": 2,
   "metadata": {},
   "outputs": [],
   "source": [
    "from tensorflow.keras.layers import TextVectorization\n",
    "import tensorflow as tf"
   ]
  },
  {
   "cell_type": "code",
   "execution_count": 3,
   "metadata": {},
   "outputs": [],
   "source": [
    "texts = [\n",
    "    \"Hello, how are you?\",\n",
    "    \"I am doing well, thank you!\",\n",
    "    \"How about you?\",\n",
    "    \"I am also doing great!\"\n",
    "]"
   ]
  },
  {
   "cell_type": "code",
   "execution_count": 4,
   "metadata": {},
   "outputs": [],
   "source": [
    "vectorizer = TextVectorization(output_mode='int', \n",
    "                               max_tokens=100,\n",
    "                               output_sequence_length=10)"
   ]
  },
  {
   "cell_type": "code",
   "execution_count": 6,
   "metadata": {},
   "outputs": [
    {
     "name": "stdout",
     "output_type": "stream",
     "text": [
      "Vectorized text:\n",
      " [[ 9  4 11  2  0  0  0  0  0  0]\n",
      " [ 3  6  5  7  8  2  0  0  0  0]\n",
      " [ 4 13  2  0  0  0  0  0  0  0]\n",
      " [ 3  6 12  5 10  0  0  0  0  0]]\n"
     ]
    }
   ],
   "source": [
    "vectorizer.adapt(texts)\n",
    "text_vectorized = vectorizer(texts)\n",
    "print(\"Vectorized text:\\n\", text_vectorized.numpy())"
   ]
  },
  {
   "cell_type": "code",
   "execution_count": null,
   "metadata": {},
   "outputs": [],
   "source": []
  }
 ],
 "metadata": {
  "kernelspec": {
   "display_name": ".venv",
   "language": "python",
   "name": "python3"
  },
  "language_info": {
   "codemirror_mode": {
    "name": "ipython",
    "version": 3
   },
   "file_extension": ".py",
   "mimetype": "text/x-python",
   "name": "python",
   "nbconvert_exporter": "python",
   "pygments_lexer": "ipython3",
   "version": "3.11.1"
  }
 },
 "nbformat": 4,
 "nbformat_minor": 2
}
